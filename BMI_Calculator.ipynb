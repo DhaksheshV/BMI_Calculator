{
 "cells": [
  {
   "cell_type": "markdown",
   "id": "66afb970-da8b-4e52-b2bb-f2428ec34f26",
   "metadata": {},
   "source": [
    "BMI Calculator"
   ]
  },
  {
   "cell_type": "code",
   "execution_count": 5,
   "id": "6782ff2e-46b6-40cc-a17e-2c273f2f3baf",
   "metadata": {},
   "outputs": [
    {
     "name": "stdin",
     "output_type": "stream",
     "text": [
      "Enter your name Dhakshesh\n",
      "Enter your weight in pounds :  150\n",
      "Enter your height in inches :  69\n"
     ]
    },
    {
     "name": "stdout",
     "output_type": "stream",
     "text": [
      "22.14870825456837\n"
     ]
    }
   ],
   "source": [
    "name = input(\"Enter your name\")\n",
    "weight = int(input(\"Enter your weight in pounds : \"))\n",
    "height = int(input(\"Enter your height in inches : \"))\n",
    "BMI = (weight * 703) / (height * height)\n",
    "print(BMI)"
   ]
  },
  {
   "cell_type": "markdown",
   "id": "5a078248-ba44-4035-a343-0480f88d7156",
   "metadata": {},
   "source": [
    "Criteria:\n",
    "Under 18.5 - underweight\n",
    "18.5 to 24.9 - normal weight\n",
    "25 to 29.9 - obese\n",
    "30 to 34.9 - severely obese\n",
    "35 to 39.9 - morbidly obese"
   ]
  },
  {
   "cell_type": "code",
   "execution_count": 8,
   "id": "682ac4d8-3abe-426f-8579-e6c7672a3720",
   "metadata": {},
   "outputs": [
    {
     "name": "stdout",
     "output_type": "stream",
     "text": [
      "Dhakshesh, you are normal weight.\n"
     ]
    }
   ],
   "source": [
    "if BMI>0:\n",
    "    if(BMI<18.5):\n",
    "        print(name + \", You are underweight.\")\n",
    "    elif(BMI<=24.9):\n",
    "        print(name + \", you are normal weight.\")\n",
    "    elif(BMI<=29.9):\n",
    "        print(name + \", you are overweight.\")\n",
    "    elif(BMI<=34.9):\n",
    "        print(name + \", you are obese.\")\n",
    "    elif(BMI<=39.9):\n",
    "        print(name + \", you are severely obese.\")\n",
    "    else:\n",
    "        print(name + \", you are Morbidly obese.\")\n",
    "else:\n",
    "    print(\"Enter valid input\")"
   ]
  }
 ],
 "metadata": {
  "kernelspec": {
   "display_name": "Python 3 (ipykernel)",
   "language": "python",
   "name": "python3"
  },
  "language_info": {
   "codemirror_mode": {
    "name": "ipython",
    "version": 3
   },
   "file_extension": ".py",
   "mimetype": "text/x-python",
   "name": "python",
   "nbconvert_exporter": "python",
   "pygments_lexer": "ipython3",
   "version": "3.12.4"
  }
 },
 "nbformat": 4,
 "nbformat_minor": 5
}
